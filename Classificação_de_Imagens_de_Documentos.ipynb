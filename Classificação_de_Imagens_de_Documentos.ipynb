{
  "nbformat": 4,
  "nbformat_minor": 0,
  "metadata": {
    "colab": {
      "name": "Classificação de Imagens de Documentos.ipynb",
      "provenance": []
    },
    "kernelspec": {
      "name": "python3",
      "display_name": "Python 3"
    },
    "language_info": {
      "name": "python"
    },
    "accelerator": "GPU",
    "gpuClass": "standard"
  },
  "cells": [
    {
      "cell_type": "code",
      "source": [
        "from google.colab import drive\n",
        "drive.mount('/content/drive')"
      ],
      "metadata": {
        "id": "yuyu0O6QF9sW",
        "colab": {
          "base_uri": "https://localhost:8080/"
        },
        "outputId": "f004014d-179c-4180-f0d5-0a6d41dae304"
      },
      "execution_count": 1,
      "outputs": [
        {
          "output_type": "stream",
          "name": "stdout",
          "text": [
            "Drive already mounted at /content/drive; to attempt to forcibly remount, call drive.mount(\"/content/drive\", force_remount=True).\n"
          ]
        }
      ]
    },
    {
      "cell_type": "code",
      "source": [
        "!cp -r '/content/drive/MyDrive/full_3/full_3' 'documents'"
      ],
      "metadata": {
        "id": "BhBHGG3aHXFY"
      },
      "execution_count": 2,
      "outputs": []
    },
    {
      "cell_type": "code",
      "execution_count": 3,
      "metadata": {
        "id": "Y5fvPmZ1hs-7",
        "colab": {
          "base_uri": "https://localhost:8080/"
        },
        "outputId": "6471d36e-9d76-4c18-c9d7-c87502928845"
      },
      "outputs": [
        {
          "output_type": "stream",
          "name": "stdout",
          "text": [
            "Looking in indexes: https://pypi.org/simple, https://us-python.pkg.dev/colab-wheels/public/simple/\n",
            "Requirement already satisfied: keras in /usr/local/lib/python3.7/dist-packages (2.8.0)\n",
            "Collecting keras\n",
            "  Using cached keras-2.9.0-py2.py3-none-any.whl (1.6 MB)\n",
            "Installing collected packages: keras\n",
            "  Attempting uninstall: keras\n",
            "    Found existing installation: keras 2.8.0\n",
            "    Uninstalling keras-2.8.0:\n",
            "      Successfully uninstalled keras-2.8.0\n",
            "\u001b[31mERROR: pip's dependency resolver does not currently take into account all the packages that are installed. This behaviour is the source of the following dependency conflicts.\n",
            "tensorflow 2.8.2+zzzcolab20220719082949 requires keras<2.9,>=2.8.0rc0, but you have keras 2.9.0 which is incompatible.\u001b[0m\n",
            "Successfully installed keras-2.9.0\n",
            "Looking in indexes: https://pypi.org/simple, https://us-python.pkg.dev/colab-wheels/public/simple/\n",
            "Requirement already satisfied: tensorflow in /usr/local/lib/python3.7/dist-packages (2.8.2+zzzcolab20220719082949)\n",
            "Requirement already satisfied: grpcio<2.0,>=1.24.3 in /usr/local/lib/python3.7/dist-packages (from tensorflow) (1.47.0)\n",
            "Requirement already satisfied: keras-preprocessing>=1.1.1 in /usr/local/lib/python3.7/dist-packages (from tensorflow) (1.1.2)\n",
            "Requirement already satisfied: tensorflow-estimator<2.9,>=2.8 in /usr/local/lib/python3.7/dist-packages (from tensorflow) (2.8.0)\n",
            "Requirement already satisfied: setuptools in /usr/local/lib/python3.7/dist-packages (from tensorflow) (57.4.0)\n",
            "Requirement already satisfied: libclang>=9.0.1 in /usr/local/lib/python3.7/dist-packages (from tensorflow) (14.0.6)\n",
            "Requirement already satisfied: opt-einsum>=2.3.2 in /usr/local/lib/python3.7/dist-packages (from tensorflow) (3.3.0)\n",
            "Requirement already satisfied: numpy>=1.20 in /usr/local/lib/python3.7/dist-packages (from tensorflow) (1.21.6)\n",
            "Requirement already satisfied: wrapt>=1.11.0 in /usr/local/lib/python3.7/dist-packages (from tensorflow) (1.14.1)\n",
            "Requirement already satisfied: tensorboard<2.9,>=2.8 in /usr/local/lib/python3.7/dist-packages (from tensorflow) (2.8.0)\n",
            "Requirement already satisfied: typing-extensions>=3.6.6 in /usr/local/lib/python3.7/dist-packages (from tensorflow) (4.1.1)\n",
            "Requirement already satisfied: six>=1.12.0 in /usr/local/lib/python3.7/dist-packages (from tensorflow) (1.15.0)\n",
            "Collecting keras<2.9,>=2.8.0rc0\n",
            "  Using cached keras-2.8.0-py2.py3-none-any.whl (1.4 MB)\n",
            "Requirement already satisfied: gast>=0.2.1 in /usr/local/lib/python3.7/dist-packages (from tensorflow) (0.5.3)\n",
            "Requirement already satisfied: tensorflow-io-gcs-filesystem>=0.23.1 in /usr/local/lib/python3.7/dist-packages (from tensorflow) (0.26.0)\n",
            "Requirement already satisfied: h5py>=2.9.0 in /usr/local/lib/python3.7/dist-packages (from tensorflow) (3.1.0)\n",
            "Requirement already satisfied: astunparse>=1.6.0 in /usr/local/lib/python3.7/dist-packages (from tensorflow) (1.6.3)\n",
            "Requirement already satisfied: absl-py>=0.4.0 in /usr/local/lib/python3.7/dist-packages (from tensorflow) (1.2.0)\n",
            "Requirement already satisfied: termcolor>=1.1.0 in /usr/local/lib/python3.7/dist-packages (from tensorflow) (1.1.0)\n",
            "Requirement already satisfied: flatbuffers>=1.12 in /usr/local/lib/python3.7/dist-packages (from tensorflow) (2.0)\n",
            "Requirement already satisfied: protobuf<3.20,>=3.9.2 in /usr/local/lib/python3.7/dist-packages (from tensorflow) (3.17.3)\n",
            "Requirement already satisfied: google-pasta>=0.1.1 in /usr/local/lib/python3.7/dist-packages (from tensorflow) (0.2.0)\n",
            "Requirement already satisfied: wheel<1.0,>=0.23.0 in /usr/local/lib/python3.7/dist-packages (from astunparse>=1.6.0->tensorflow) (0.37.1)\n",
            "Requirement already satisfied: cached-property in /usr/local/lib/python3.7/dist-packages (from h5py>=2.9.0->tensorflow) (1.5.2)\n",
            "Requirement already satisfied: requests<3,>=2.21.0 in /usr/local/lib/python3.7/dist-packages (from tensorboard<2.9,>=2.8->tensorflow) (2.23.0)\n",
            "Requirement already satisfied: google-auth<3,>=1.6.3 in /usr/local/lib/python3.7/dist-packages (from tensorboard<2.9,>=2.8->tensorflow) (1.35.0)\n",
            "Requirement already satisfied: werkzeug>=0.11.15 in /usr/local/lib/python3.7/dist-packages (from tensorboard<2.9,>=2.8->tensorflow) (1.0.1)\n",
            "Requirement already satisfied: markdown>=2.6.8 in /usr/local/lib/python3.7/dist-packages (from tensorboard<2.9,>=2.8->tensorflow) (3.4.1)\n",
            "Requirement already satisfied: tensorboard-plugin-wit>=1.6.0 in /usr/local/lib/python3.7/dist-packages (from tensorboard<2.9,>=2.8->tensorflow) (1.8.1)\n",
            "Requirement already satisfied: tensorboard-data-server<0.7.0,>=0.6.0 in /usr/local/lib/python3.7/dist-packages (from tensorboard<2.9,>=2.8->tensorflow) (0.6.1)\n",
            "Requirement already satisfied: google-auth-oauthlib<0.5,>=0.4.1 in /usr/local/lib/python3.7/dist-packages (from tensorboard<2.9,>=2.8->tensorflow) (0.4.6)\n",
            "Requirement already satisfied: cachetools<5.0,>=2.0.0 in /usr/local/lib/python3.7/dist-packages (from google-auth<3,>=1.6.3->tensorboard<2.9,>=2.8->tensorflow) (4.2.4)\n",
            "Requirement already satisfied: pyasn1-modules>=0.2.1 in /usr/local/lib/python3.7/dist-packages (from google-auth<3,>=1.6.3->tensorboard<2.9,>=2.8->tensorflow) (0.2.8)\n",
            "Requirement already satisfied: rsa<5,>=3.1.4 in /usr/local/lib/python3.7/dist-packages (from google-auth<3,>=1.6.3->tensorboard<2.9,>=2.8->tensorflow) (4.9)\n",
            "Requirement already satisfied: requests-oauthlib>=0.7.0 in /usr/local/lib/python3.7/dist-packages (from google-auth-oauthlib<0.5,>=0.4.1->tensorboard<2.9,>=2.8->tensorflow) (1.3.1)\n",
            "Requirement already satisfied: importlib-metadata>=4.4 in /usr/local/lib/python3.7/dist-packages (from markdown>=2.6.8->tensorboard<2.9,>=2.8->tensorflow) (4.12.0)\n",
            "Requirement already satisfied: zipp>=0.5 in /usr/local/lib/python3.7/dist-packages (from importlib-metadata>=4.4->markdown>=2.6.8->tensorboard<2.9,>=2.8->tensorflow) (3.8.1)\n",
            "Requirement already satisfied: pyasn1<0.5.0,>=0.4.6 in /usr/local/lib/python3.7/dist-packages (from pyasn1-modules>=0.2.1->google-auth<3,>=1.6.3->tensorboard<2.9,>=2.8->tensorflow) (0.4.8)\n",
            "Requirement already satisfied: urllib3!=1.25.0,!=1.25.1,<1.26,>=1.21.1 in /usr/local/lib/python3.7/dist-packages (from requests<3,>=2.21.0->tensorboard<2.9,>=2.8->tensorflow) (1.24.3)\n",
            "Requirement already satisfied: chardet<4,>=3.0.2 in /usr/local/lib/python3.7/dist-packages (from requests<3,>=2.21.0->tensorboard<2.9,>=2.8->tensorflow) (3.0.4)\n",
            "Requirement already satisfied: certifi>=2017.4.17 in /usr/local/lib/python3.7/dist-packages (from requests<3,>=2.21.0->tensorboard<2.9,>=2.8->tensorflow) (2022.6.15)\n",
            "Requirement already satisfied: idna<3,>=2.5 in /usr/local/lib/python3.7/dist-packages (from requests<3,>=2.21.0->tensorboard<2.9,>=2.8->tensorflow) (2.10)\n",
            "Requirement already satisfied: oauthlib>=3.0.0 in /usr/local/lib/python3.7/dist-packages (from requests-oauthlib>=0.7.0->google-auth-oauthlib<0.5,>=0.4.1->tensorboard<2.9,>=2.8->tensorflow) (3.2.0)\n",
            "Installing collected packages: keras\n",
            "  Attempting uninstall: keras\n",
            "    Found existing installation: keras 2.9.0\n",
            "    Uninstalling keras-2.9.0:\n",
            "      Successfully uninstalled keras-2.9.0\n",
            "Successfully installed keras-2.8.0\n",
            "Reading package lists... Done\n",
            "Building dependency tree       \n",
            "Reading state information... Done\n",
            "tesseract-ocr is already the newest version (4.00~git2288-10f4998a-2).\n",
            "The following package was automatically installed and is no longer required:\n",
            "  libnvidia-common-460\n",
            "Use 'sudo apt autoremove' to remove it.\n",
            "0 upgraded, 0 newly installed, 0 to remove and 20 not upgraded.\n"
          ]
        }
      ],
      "source": [
        "!pip install -U keras\n",
        "!pip install tensorflow\n",
        "!sudo apt install tesseract-ocr"
      ]
    },
    {
      "cell_type": "code",
      "source": [
        "!pip install pytesseract"
      ],
      "metadata": {
        "colab": {
          "base_uri": "https://localhost:8080/"
        },
        "id": "F_T022Zh2m2r",
        "outputId": "943f2ac9-9cd9-4202-d636-b7bc9734429a"
      },
      "execution_count": 4,
      "outputs": [
        {
          "output_type": "stream",
          "name": "stdout",
          "text": [
            "Looking in indexes: https://pypi.org/simple, https://us-python.pkg.dev/colab-wheels/public/simple/\n",
            "Requirement already satisfied: pytesseract in /usr/local/lib/python3.7/dist-packages (0.3.10)\n",
            "Requirement already satisfied: packaging>=21.3 in /usr/local/lib/python3.7/dist-packages (from pytesseract) (21.3)\n",
            "Requirement already satisfied: Pillow>=8.0.0 in /usr/local/lib/python3.7/dist-packages (from pytesseract) (9.2.0)\n",
            "Requirement already satisfied: pyparsing!=3.0.5,>=2.0.2 in /usr/local/lib/python3.7/dist-packages (from packaging>=21.3->pytesseract) (3.0.9)\n"
          ]
        }
      ]
    },
    {
      "cell_type": "code",
      "source": [
        "from keras.models import Sequential\n",
        "from keras.layers import Dense, Activation, Conv2D, MaxPooling2D, BatchNormalization, Flatten, Dropout\n",
        "from tensorflow.keras import layers\n",
        "from tensorflow.keras.preprocessing.image import ImageDataGenerator\n",
        "import pandas as pd\n",
        "from sklearn.model_selection import train_test_split\n",
        "import numpy as np\n",
        "from tensorflow.keras.optimizers import SGD\n",
        "import os\n",
        "from PIL import Image\n",
        "import pytesseract\n",
        "from sklearn.metrics import classification_report\n",
        "from keras.utils.np_utils import to_categorical\n",
        "import matplotlib.pyplot as plt\n",
        "from tensorflow.keras.applications.resnet50 import ResNet50"
      ],
      "metadata": {
        "id": "z4LzKmQhh3rm"
      },
      "execution_count": 5,
      "outputs": []
    },
    {
      "cell_type": "markdown",
      "source": [
        "Leitura de dados"
      ],
      "metadata": {
        "id": "GNOjQvtWKjTI"
      }
    },
    {
      "cell_type": "code",
      "source": [
        "path_documents = 'documents'\n",
        "lista_subfolders = os.listdir(path_documents)\n",
        "\n",
        "dataset_dict = {}\n",
        "\n",
        "dataset_dict['filename'] = []\n",
        "dataset_dict['label'] = []\n",
        "\n",
        "for folder in lista_subfolders:\n",
        "    lista_imagens = os.listdir(path_documents+'/'+folder)\n",
        "\n",
        "    for img_file in lista_imagens:\n",
        "        dataset_dict['filename'].append(folder + '/' + img_file)\n",
        "        dataset_dict['label'].append(folder)"
      ],
      "metadata": {
        "id": "Z2ZIqZAkKktK"
      },
      "execution_count": 6,
      "outputs": []
    },
    {
      "cell_type": "code",
      "source": [
        "df = pd.DataFrame(dataset_dict,columns=['filename','label'])"
      ],
      "metadata": {
        "id": "Ku-nGuQeOf8J"
      },
      "execution_count": 7,
      "outputs": []
    },
    {
      "cell_type": "code",
      "source": [
        "X = df['filename'].values\n",
        "Y = df['label'].values"
      ],
      "metadata": {
        "id": "gKUL5D8cOoKW"
      },
      "execution_count": 8,
      "outputs": []
    },
    {
      "cell_type": "code",
      "source": [
        "X_train, X_test, y_train, y_test = train_test_split(X,Y,test_size=0.3,random_state=42)\n",
        "X_valid, X_test, y_valid, y_test = train_test_split(X_test,y_test,test_size=0.7,random_state=42)"
      ],
      "metadata": {
        "id": "0Rp1AoTnJnBk"
      },
      "execution_count": 9,
      "outputs": []
    },
    {
      "cell_type": "markdown",
      "source": [
        "Criação dos Logits dos labels"
      ],
      "metadata": {
        "id": "bziyG4pVOvZ4"
      }
    },
    {
      "cell_type": "code",
      "source": [
        "train_labels = pd.Categorical(y_train)\n",
        "valid_labels = pd.Categorical(y_valid)\n",
        "test_labels = pd.Categorical(y_test)\n",
        "\n",
        "y_train_int = train_labels.codes\n",
        "y_valid_int = valid_labels.codes\n",
        "y_test_int =  test_labels.codes\n",
        "\n",
        "y_train_logits = to_categorical(y_train_int)\n",
        "y_valid_logits = to_categorical(y_valid_int)\n",
        "y_test_logits = to_categorical(y_test_int)"
      ],
      "metadata": {
        "id": "VsEzwea3OzCA"
      },
      "execution_count": 10,
      "outputs": []
    },
    {
      "cell_type": "code",
      "source": [
        "lista_train = []\n",
        "for i in range(0,len(X_train)):\n",
        "    lista_train.append([X_train[i],y_train[i]])\n",
        "\n",
        "lista_valid = []\n",
        "for i in range(0,len(X_valid)):\n",
        "    lista_valid.append([X_valid[i],y_valid[i]])\n",
        "\n",
        "lista_test = []\n",
        "for i in range(0,len(X_test)):\n",
        "    lista_test.append([X_test[i],y_test[i]])"
      ],
      "metadata": {
        "id": "ztisovhkRCbe"
      },
      "execution_count": 11,
      "outputs": []
    },
    {
      "cell_type": "code",
      "source": [
        "df_train = pd.DataFrame(lista_train,columns = ['filename','label'])\n",
        "df_valid = pd.DataFrame(lista_valid,columns = ['filename','label'])\n",
        "df_test = pd.DataFrame(lista_test,columns = ['filename','label'])"
      ],
      "metadata": {
        "id": "NoapAerKSCfx"
      },
      "execution_count": 12,
      "outputs": []
    },
    {
      "cell_type": "code",
      "source": [
        "df_train"
      ],
      "metadata": {
        "id": "aoZL4OjTUphD",
        "colab": {
          "base_uri": "https://localhost:8080/",
          "height": 424
        },
        "outputId": "a8f0ac16-c50a-4dc0-cc10-c9abb19828c7"
      },
      "execution_count": 13,
      "outputs": [
        {
          "output_type": "execute_result",
          "data": {
            "text/plain": [
              "                                               filename  \\\n",
              "0                                 email/2084390683a.tif   \n",
              "1                                 email/2071862778a.tif   \n",
              "2                            advertisement/71896575.tif   \n",
              "3         scientific _publication/60046777_60046785.tif   \n",
              "4                      scientific _publication/1240.tif   \n",
              "...                                                 ...   \n",
              "2069                               email/2085272065.tif   \n",
              "2070                              email/2080891376a.tif   \n",
              "2071                               email/2064833034.tif   \n",
              "2072                                     email/1041.tif   \n",
              "2073  scientific _publication/1000089966_1000089970.tif   \n",
              "\n",
              "                        label  \n",
              "0                       email  \n",
              "1                       email  \n",
              "2               advertisement  \n",
              "3     scientific _publication  \n",
              "4     scientific _publication  \n",
              "...                       ...  \n",
              "2069                    email  \n",
              "2070                    email  \n",
              "2071                    email  \n",
              "2072                    email  \n",
              "2073  scientific _publication  \n",
              "\n",
              "[2074 rows x 2 columns]"
            ],
            "text/html": [
              "\n",
              "  <div id=\"df-2fc7a070-8afb-4c59-bfe3-9aa644e3416c\">\n",
              "    <div class=\"colab-df-container\">\n",
              "      <div>\n",
              "<style scoped>\n",
              "    .dataframe tbody tr th:only-of-type {\n",
              "        vertical-align: middle;\n",
              "    }\n",
              "\n",
              "    .dataframe tbody tr th {\n",
              "        vertical-align: top;\n",
              "    }\n",
              "\n",
              "    .dataframe thead th {\n",
              "        text-align: right;\n",
              "    }\n",
              "</style>\n",
              "<table border=\"1\" class=\"dataframe\">\n",
              "  <thead>\n",
              "    <tr style=\"text-align: right;\">\n",
              "      <th></th>\n",
              "      <th>filename</th>\n",
              "      <th>label</th>\n",
              "    </tr>\n",
              "  </thead>\n",
              "  <tbody>\n",
              "    <tr>\n",
              "      <th>0</th>\n",
              "      <td>email/2084390683a.tif</td>\n",
              "      <td>email</td>\n",
              "    </tr>\n",
              "    <tr>\n",
              "      <th>1</th>\n",
              "      <td>email/2071862778a.tif</td>\n",
              "      <td>email</td>\n",
              "    </tr>\n",
              "    <tr>\n",
              "      <th>2</th>\n",
              "      <td>advertisement/71896575.tif</td>\n",
              "      <td>advertisement</td>\n",
              "    </tr>\n",
              "    <tr>\n",
              "      <th>3</th>\n",
              "      <td>scientific _publication/60046777_60046785.tif</td>\n",
              "      <td>scientific _publication</td>\n",
              "    </tr>\n",
              "    <tr>\n",
              "      <th>4</th>\n",
              "      <td>scientific _publication/1240.tif</td>\n",
              "      <td>scientific _publication</td>\n",
              "    </tr>\n",
              "    <tr>\n",
              "      <th>...</th>\n",
              "      <td>...</td>\n",
              "      <td>...</td>\n",
              "    </tr>\n",
              "    <tr>\n",
              "      <th>2069</th>\n",
              "      <td>email/2085272065.tif</td>\n",
              "      <td>email</td>\n",
              "    </tr>\n",
              "    <tr>\n",
              "      <th>2070</th>\n",
              "      <td>email/2080891376a.tif</td>\n",
              "      <td>email</td>\n",
              "    </tr>\n",
              "    <tr>\n",
              "      <th>2071</th>\n",
              "      <td>email/2064833034.tif</td>\n",
              "      <td>email</td>\n",
              "    </tr>\n",
              "    <tr>\n",
              "      <th>2072</th>\n",
              "      <td>email/1041.tif</td>\n",
              "      <td>email</td>\n",
              "    </tr>\n",
              "    <tr>\n",
              "      <th>2073</th>\n",
              "      <td>scientific _publication/1000089966_1000089970.tif</td>\n",
              "      <td>scientific _publication</td>\n",
              "    </tr>\n",
              "  </tbody>\n",
              "</table>\n",
              "<p>2074 rows × 2 columns</p>\n",
              "</div>\n",
              "      <button class=\"colab-df-convert\" onclick=\"convertToInteractive('df-2fc7a070-8afb-4c59-bfe3-9aa644e3416c')\"\n",
              "              title=\"Convert this dataframe to an interactive table.\"\n",
              "              style=\"display:none;\">\n",
              "        \n",
              "  <svg xmlns=\"http://www.w3.org/2000/svg\" height=\"24px\"viewBox=\"0 0 24 24\"\n",
              "       width=\"24px\">\n",
              "    <path d=\"M0 0h24v24H0V0z\" fill=\"none\"/>\n",
              "    <path d=\"M18.56 5.44l.94 2.06.94-2.06 2.06-.94-2.06-.94-.94-2.06-.94 2.06-2.06.94zm-11 1L8.5 8.5l.94-2.06 2.06-.94-2.06-.94L8.5 2.5l-.94 2.06-2.06.94zm10 10l.94 2.06.94-2.06 2.06-.94-2.06-.94-.94-2.06-.94 2.06-2.06.94z\"/><path d=\"M17.41 7.96l-1.37-1.37c-.4-.4-.92-.59-1.43-.59-.52 0-1.04.2-1.43.59L10.3 9.45l-7.72 7.72c-.78.78-.78 2.05 0 2.83L4 21.41c.39.39.9.59 1.41.59.51 0 1.02-.2 1.41-.59l7.78-7.78 2.81-2.81c.8-.78.8-2.07 0-2.86zM5.41 20L4 18.59l7.72-7.72 1.47 1.35L5.41 20z\"/>\n",
              "  </svg>\n",
              "      </button>\n",
              "      \n",
              "  <style>\n",
              "    .colab-df-container {\n",
              "      display:flex;\n",
              "      flex-wrap:wrap;\n",
              "      gap: 12px;\n",
              "    }\n",
              "\n",
              "    .colab-df-convert {\n",
              "      background-color: #E8F0FE;\n",
              "      border: none;\n",
              "      border-radius: 50%;\n",
              "      cursor: pointer;\n",
              "      display: none;\n",
              "      fill: #1967D2;\n",
              "      height: 32px;\n",
              "      padding: 0 0 0 0;\n",
              "      width: 32px;\n",
              "    }\n",
              "\n",
              "    .colab-df-convert:hover {\n",
              "      background-color: #E2EBFA;\n",
              "      box-shadow: 0px 1px 2px rgba(60, 64, 67, 0.3), 0px 1px 3px 1px rgba(60, 64, 67, 0.15);\n",
              "      fill: #174EA6;\n",
              "    }\n",
              "\n",
              "    [theme=dark] .colab-df-convert {\n",
              "      background-color: #3B4455;\n",
              "      fill: #D2E3FC;\n",
              "    }\n",
              "\n",
              "    [theme=dark] .colab-df-convert:hover {\n",
              "      background-color: #434B5C;\n",
              "      box-shadow: 0px 1px 3px 1px rgba(0, 0, 0, 0.15);\n",
              "      filter: drop-shadow(0px 1px 2px rgba(0, 0, 0, 0.3));\n",
              "      fill: #FFFFFF;\n",
              "    }\n",
              "  </style>\n",
              "\n",
              "      <script>\n",
              "        const buttonEl =\n",
              "          document.querySelector('#df-2fc7a070-8afb-4c59-bfe3-9aa644e3416c button.colab-df-convert');\n",
              "        buttonEl.style.display =\n",
              "          google.colab.kernel.accessAllowed ? 'block' : 'none';\n",
              "\n",
              "        async function convertToInteractive(key) {\n",
              "          const element = document.querySelector('#df-2fc7a070-8afb-4c59-bfe3-9aa644e3416c');\n",
              "          const dataTable =\n",
              "            await google.colab.kernel.invokeFunction('convertToInteractive',\n",
              "                                                     [key], {});\n",
              "          if (!dataTable) return;\n",
              "\n",
              "          const docLinkHtml = 'Like what you see? Visit the ' +\n",
              "            '<a target=\"_blank\" href=https://colab.research.google.com/notebooks/data_table.ipynb>data table notebook</a>'\n",
              "            + ' to learn more about interactive tables.';\n",
              "          element.innerHTML = '';\n",
              "          dataTable['output_type'] = 'display_data';\n",
              "          await google.colab.output.renderOutput(dataTable, element);\n",
              "          const docLink = document.createElement('div');\n",
              "          docLink.innerHTML = docLinkHtml;\n",
              "          element.appendChild(docLink);\n",
              "        }\n",
              "      </script>\n",
              "    </div>\n",
              "  </div>\n",
              "  "
            ]
          },
          "metadata": {},
          "execution_count": 13
        }
      ]
    },
    {
      "cell_type": "code",
      "source": [
        "datagen = ImageDataGenerator(rescale=1./255)\n",
        "\n",
        "train_generator = datagen.flow_from_dataframe(df_train,\n",
        "                                              directory=path_documents,\n",
        "                                              x_col='filename', y_col='label',\n",
        "                                              class_mode='categorical')\n",
        "\n",
        "valid_generator = datagen.flow_from_dataframe(df_valid,\n",
        "                                              directory=path_documents,\n",
        "                                              x_col='filename',y_col='label',\n",
        "                                              class_mode='categorical',\n",
        "                                              shuffle=True)\n",
        "\n",
        "test_generator = datagen.flow_from_dataframe(df_test,\n",
        "                                              directory=path_documents,\n",
        "                                              x_col='filename', y_col='label',\n",
        "                                              class_mode='categorical')"
      ],
      "metadata": {
        "colab": {
          "base_uri": "https://localhost:8080/"
        },
        "id": "uB2xPtB3Jdtx",
        "outputId": "8ae96b61-4ce9-4c51-ee65-2e13e5215557"
      },
      "execution_count": 14,
      "outputs": [
        {
          "output_type": "stream",
          "name": "stdout",
          "text": [
            "Found 2072 validated image filenames belonging to 3 classes.\n",
            "Found 267 validated image filenames belonging to 3 classes.\n",
            "Found 622 validated image filenames belonging to 3 classes.\n"
          ]
        },
        {
          "output_type": "stream",
          "name": "stderr",
          "text": [
            "/usr/local/lib/python3.7/dist-packages/keras_preprocessing/image/dataframe_iterator.py:282: UserWarning: Found 2 invalid image filename(s) in x_col=\"filename\". These filename(s) will be ignored.\n",
            "  .format(n_invalid, x_col)\n",
            "/usr/local/lib/python3.7/dist-packages/keras_preprocessing/image/dataframe_iterator.py:282: UserWarning: Found 1 invalid image filename(s) in x_col=\"filename\". These filename(s) will be ignored.\n",
            "  .format(n_invalid, x_col)\n"
          ]
        }
      ]
    },
    {
      "cell_type": "code",
      "source": [
        "dims = (224,224,3)\n",
        "num_classes = 3"
      ],
      "metadata": {
        "id": "x9yZ1fy7kHlp"
      },
      "execution_count": 15,
      "outputs": []
    },
    {
      "cell_type": "code",
      "source": [
        "model = Sequential()\n",
        "model.add(layers.experimental.preprocessing.Resizing(224,224,interpolation=\"bilinear\",input_shape=(224,224,3)))\n",
        "model.add(Conv2D(96, kernel_size=(11,11), strides=(4,4), activation='relu', input_shape=dims))\n",
        "model.add(MaxPooling2D(pool_size=(2, 2)))\n",
        "model.add(BatchNormalization())\n",
        "\n",
        "model.add(Conv2D(256, kernel_size=(5,5), strides=1, padding='same', activation='relu', input_shape=dims))\n",
        "model.add(MaxPooling2D(pool_size=(3, 3), strides=(2,2)))\n",
        "model.add(BatchNormalization())\n",
        "\n",
        "model.add(Conv2D(384, kernel_size=(3,3), strides=(1, 1), padding='same', activation='relu', input_shape=dims))\n",
        "model.add(Dropout(0.5))\n",
        "model.add(Conv2D(384, kernel_size=(3,3), strides=(1, 1), padding='same', activation='relu', input_shape=dims))\n",
        "model.add(Conv2D(384, kernel_size=(3,3), strides=(1, 1), padding='same', activation='relu', input_shape=dims))\n",
        "model.add(MaxPooling2D((3, 3), strides=(2, 2)))\n",
        "model.add(Flatten())\n",
        "\n",
        "model.add(Dense(4096, activation='relu'))\n",
        "\n",
        "model.add(Dense(4096, activation='relu'))\n",
        "\n",
        "model.add(Dense(num_classes, activation = 'softmax'))"
      ],
      "metadata": {
        "id": "0prbhWaAjIfY"
      },
      "execution_count": 16,
      "outputs": []
    },
    {
      "cell_type": "code",
      "source": [
        "model.summary()"
      ],
      "metadata": {
        "id": "_0G1EWhOn0g2",
        "colab": {
          "base_uri": "https://localhost:8080/"
        },
        "outputId": "2dadb01c-c731-4187-9359-750b85d0f679"
      },
      "execution_count": 17,
      "outputs": [
        {
          "output_type": "stream",
          "name": "stdout",
          "text": [
            "Model: \"sequential\"\n",
            "_________________________________________________________________\n",
            " Layer (type)                Output Shape              Param #   \n",
            "=================================================================\n",
            " resizing (Resizing)         (None, 224, 224, 3)       0         \n",
            "                                                                 \n",
            " conv2d (Conv2D)             (None, 54, 54, 96)        34944     \n",
            "                                                                 \n",
            " max_pooling2d (MaxPooling2D  (None, 27, 27, 96)       0         \n",
            " )                                                               \n",
            "                                                                 \n",
            " batch_normalization (BatchN  (None, 27, 27, 96)       384       \n",
            " ormalization)                                                   \n",
            "                                                                 \n",
            " conv2d_1 (Conv2D)           (None, 27, 27, 256)       614656    \n",
            "                                                                 \n",
            " max_pooling2d_1 (MaxPooling  (None, 13, 13, 256)      0         \n",
            " 2D)                                                             \n",
            "                                                                 \n",
            " batch_normalization_1 (Batc  (None, 13, 13, 256)      1024      \n",
            " hNormalization)                                                 \n",
            "                                                                 \n",
            " conv2d_2 (Conv2D)           (None, 13, 13, 384)       885120    \n",
            "                                                                 \n",
            " dropout (Dropout)           (None, 13, 13, 384)       0         \n",
            "                                                                 \n",
            " conv2d_3 (Conv2D)           (None, 13, 13, 384)       1327488   \n",
            "                                                                 \n",
            " conv2d_4 (Conv2D)           (None, 13, 13, 384)       1327488   \n",
            "                                                                 \n",
            " max_pooling2d_2 (MaxPooling  (None, 6, 6, 384)        0         \n",
            " 2D)                                                             \n",
            "                                                                 \n",
            " flatten (Flatten)           (None, 13824)             0         \n",
            "                                                                 \n",
            " dense (Dense)               (None, 4096)              56627200  \n",
            "                                                                 \n",
            " dense_1 (Dense)             (None, 4096)              16781312  \n",
            "                                                                 \n",
            " dense_2 (Dense)             (None, 3)                 12291     \n",
            "                                                                 \n",
            "=================================================================\n",
            "Total params: 77,611,907\n",
            "Trainable params: 77,611,203\n",
            "Non-trainable params: 704\n",
            "_________________________________________________________________\n"
          ]
        }
      ]
    },
    {
      "cell_type": "code",
      "source": [
        "sgd = SGD(learning_rate=0.00001)\n",
        "\n",
        "model.compile(optimizer=sgd,loss=\"categorical_crossentropy\",metrics=['accuracy'])\n",
        "\n",
        "history_fine = model.fit(train_generator,\n",
        "                        epochs=20,\n",
        "                        batch_size=16,\n",
        "                        validation_data=valid_generator)"
      ],
      "metadata": {
        "id": "SyOhGQ61IYYJ",
        "colab": {
          "base_uri": "https://localhost:8080/"
        },
        "outputId": "f8cc80fa-076e-4339-837c-45bdc8d038d8"
      },
      "execution_count": 18,
      "outputs": [
        {
          "output_type": "stream",
          "name": "stdout",
          "text": [
            "Epoch 1/20\n",
            "65/65 [==============================] - 33s 305ms/step - loss: 1.1834 - accuracy: 0.3069 - val_loss: 1.0981 - val_accuracy: 0.3783\n",
            "Epoch 2/20\n",
            "65/65 [==============================] - 10s 160ms/step - loss: 1.0528 - accuracy: 0.3427 - val_loss: 1.0935 - val_accuracy: 0.3745\n",
            "Epoch 3/20\n",
            "65/65 [==============================] - 10s 158ms/step - loss: 1.0138 - accuracy: 0.3851 - val_loss: 1.0863 - val_accuracy: 0.3670\n",
            "Epoch 4/20\n",
            "65/65 [==============================] - 10s 160ms/step - loss: 0.9797 - accuracy: 0.4416 - val_loss: 1.0745 - val_accuracy: 0.4232\n",
            "Epoch 5/20\n",
            "65/65 [==============================] - 13s 201ms/step - loss: 0.9501 - accuracy: 0.5154 - val_loss: 1.0561 - val_accuracy: 0.4644\n",
            "Epoch 6/20\n",
            "65/65 [==============================] - 11s 163ms/step - loss: 0.9277 - accuracy: 0.5743 - val_loss: 1.0306 - val_accuracy: 0.5131\n",
            "Epoch 7/20\n",
            "65/65 [==============================] - 11s 176ms/step - loss: 0.9000 - accuracy: 0.6023 - val_loss: 0.9969 - val_accuracy: 0.5506\n",
            "Epoch 8/20\n",
            "65/65 [==============================] - 11s 162ms/step - loss: 0.8762 - accuracy: 0.6303 - val_loss: 0.9597 - val_accuracy: 0.5880\n",
            "Epoch 9/20\n",
            "65/65 [==============================] - 11s 162ms/step - loss: 0.8584 - accuracy: 0.6380 - val_loss: 0.9256 - val_accuracy: 0.6554\n",
            "Epoch 10/20\n",
            "65/65 [==============================] - 11s 167ms/step - loss: 0.8314 - accuracy: 0.6631 - val_loss: 0.8931 - val_accuracy: 0.6854\n",
            "Epoch 11/20\n",
            "65/65 [==============================] - 10s 160ms/step - loss: 0.8164 - accuracy: 0.6757 - val_loss: 0.8645 - val_accuracy: 0.7191\n",
            "Epoch 12/20\n",
            "65/65 [==============================] - 11s 171ms/step - loss: 0.7949 - accuracy: 0.6873 - val_loss: 0.8412 - val_accuracy: 0.7528\n",
            "Epoch 13/20\n",
            "65/65 [==============================] - 10s 159ms/step - loss: 0.7821 - accuracy: 0.7008 - val_loss: 0.8212 - val_accuracy: 0.7528\n",
            "Epoch 14/20\n",
            "65/65 [==============================] - 10s 161ms/step - loss: 0.7694 - accuracy: 0.7133 - val_loss: 0.8048 - val_accuracy: 0.7828\n",
            "Epoch 15/20\n",
            "65/65 [==============================] - 10s 159ms/step - loss: 0.7529 - accuracy: 0.7249 - val_loss: 0.7901 - val_accuracy: 0.7865\n",
            "Epoch 16/20\n",
            "65/65 [==============================] - 11s 175ms/step - loss: 0.7424 - accuracy: 0.7292 - val_loss: 0.7769 - val_accuracy: 0.8052\n",
            "Epoch 17/20\n",
            "65/65 [==============================] - 12s 178ms/step - loss: 0.7242 - accuracy: 0.7452 - val_loss: 0.7649 - val_accuracy: 0.8127\n",
            "Epoch 18/20\n",
            "65/65 [==============================] - 11s 167ms/step - loss: 0.7150 - accuracy: 0.7481 - val_loss: 0.7535 - val_accuracy: 0.8165\n",
            "Epoch 19/20\n",
            "65/65 [==============================] - 10s 160ms/step - loss: 0.7072 - accuracy: 0.7659 - val_loss: 0.7431 - val_accuracy: 0.8165\n",
            "Epoch 20/20\n",
            "65/65 [==============================] - 12s 186ms/step - loss: 0.7005 - accuracy: 0.7597 - val_loss: 0.7326 - val_accuracy: 0.8277\n"
          ]
        }
      ]
    },
    {
      "cell_type": "markdown",
      "source": [
        "Transferência de Aprendizado"
      ],
      "metadata": {
        "id": "PKBRaOLhZjNq"
      }
    },
    {
      "cell_type": "code",
      "source": [
        "loss = history_fine.history['loss']\n",
        "val_loss = history_fine.history['val_loss']\n",
        "\n",
        "plt.plot(history_fine.history['loss'])\n",
        "plt.plot(history_fine.history['val_loss'])\n",
        "plt.title('model loss')\n",
        "plt.ylabel('loss')\n",
        "plt.xlabel('epoch')\n",
        "plt.legend(['training set','validation set'], loc='upper left')\n",
        "plt.show()"
      ],
      "metadata": {
        "id": "eTR25hR0ZmZ0",
        "colab": {
          "base_uri": "https://localhost:8080/",
          "height": 295
        },
        "outputId": "eccbd388-1a68-49f7-8a68-25b1df930e22"
      },
      "execution_count": 19,
      "outputs": [
        {
          "output_type": "display_data",
          "data": {
            "text/plain": [
              "<Figure size 432x288 with 1 Axes>"
            ],
            "image/png": "[encoded data removed]"
          },
          "metadata": {
            "needs_background": "light"
          }
        }
      ]
    },
    {
      "cell_type": "code",
      "source": [
        "y_prob = model.predict(test_generator)\n",
        "y_pred = np.argmax(y_prob,axis=1)"
      ],
      "metadata": {
        "id": "bcdrmVvC9jOV"
      },
      "execution_count": 20,
      "outputs": []
    },
    {
      "cell_type": "code",
      "source": [
        "y_prob"
      ],
      "metadata": {
        "colab": {
          "base_uri": "https://localhost:8080/"
        },
        "id": "_Khl8xkr9jpP",
        "outputId": "f3c479cd-2342-4b65-9961-8eb710315386"
      },
      "execution_count": 21,
      "outputs": [
        {
          "output_type": "execute_result",
          "data": {
            "text/plain": [
              "array([[0.32066384, 0.30251092, 0.3768252 ],\n",
              "       [0.19550692, 0.60613203, 0.19836102],\n",
              "       [0.58568007, 0.14168061, 0.27263936],\n",
              "       ...,\n",
              "       [0.90023524, 0.02535851, 0.07440622],\n",
              "       [0.20392887, 0.5328295 , 0.2632416 ],\n",
              "       [0.3193608 , 0.29275116, 0.38788804]], dtype=float32)"
            ]
          },
          "metadata": {},
          "execution_count": 21
        }
      ]
    },
    {
      "cell_type": "code",
      "source": [
        "y_test = test_generator.classes"
      ],
      "metadata": {
        "id": "ffZfplGH9km9"
      },
      "execution_count": 22,
      "outputs": []
    },
    {
      "cell_type": "code",
      "source": [
        "print(classification_report(y_test,y_pred))"
      ],
      "metadata": {
        "colab": {
          "base_uri": "https://localhost:8080/"
        },
        "id": "OBPvBjtV9mkO",
        "outputId": "a93ce7f3-a8fd-44ef-e9d6-46b50414418a"
      },
      "execution_count": 23,
      "outputs": [
        {
          "output_type": "stream",
          "name": "stdout",
          "text": [
            "              precision    recall  f1-score   support\n",
            "\n",
            "           0       0.32      0.29      0.30       221\n",
            "           1       0.27      0.28      0.27       188\n",
            "           2       0.30      0.31      0.30       213\n",
            "\n",
            "    accuracy                           0.29       622\n",
            "   macro avg       0.29      0.29      0.29       622\n",
            "weighted avg       0.30      0.29      0.29       622\n",
            "\n"
          ]
        }
      ]
    },
    {
      "cell_type": "markdown",
      "source": [
        "**ResNet50**"
      ],
      "metadata": {
        "id": "eJC4tjBn_DCp"
      }
    },
    {
      "cell_type": "code",
      "source": [
        "model_resnet_nt = Sequential()\n",
        "\n",
        "not_trained_model = ResNet50(input_shape=(224,224,3),\n",
        "    include_top=False,\n",
        "    pooling ='avg',\n",
        "    weights=None)\n",
        "\n",
        "model_resnet_nt.add(not_trained_model)\n",
        "model_resnet_nt.add(Flatten())\n",
        "\n",
        "model_resnet_nt.add(Dense(num_classes, activation = 'softmax'))"
      ],
      "metadata": {
        "id": "yHkDE2vO_BC7"
      },
      "execution_count": 24,
      "outputs": []
    },
    {
      "cell_type": "code",
      "source": [
        "model_resnet_nt.summary()"
      ],
      "metadata": {
        "colab": {
          "base_uri": "https://localhost:8080/"
        },
        "id": "_3gnjeudBwGD",
        "outputId": "5510a844-cdff-4a09-c25d-404f77bdbc0b"
      },
      "execution_count": 25,
      "outputs": [
        {
          "output_type": "stream",
          "name": "stdout",
          "text": [
            "Model: \"sequential_1\"\n",
            "_________________________________________________________________\n",
            " Layer (type)                Output Shape              Param #   \n",
            "=================================================================\n",
            " resnet50 (Functional)       (None, 2048)              23587712  \n",
            "                                                                 \n",
            " flatten_1 (Flatten)         (None, 2048)              0         \n",
            "                                                                 \n",
            " dense_3 (Dense)             (None, 3)                 6147      \n",
            "                                                                 \n",
            "=================================================================\n",
            "Total params: 23,593,859\n",
            "Trainable params: 23,540,739\n",
            "Non-trainable params: 53,120\n",
            "_________________________________________________________________\n"
          ]
        }
      ]
    },
    {
      "cell_type": "code",
      "source": [
        "sgd = SGD(learning_rate=0.00001)\n",
        "\n",
        "model_resnet_nt.compile(optimizer=sgd,loss=\"categorical_crossentropy\",metrics=['accuracy'])\n",
        "\n",
        "history_fine =model_resnet_nt.fit(train_generator,\n",
        "                        epochs=10,\n",
        "                        batch_size=32,\n",
        "                        validation_data=valid_generator)"
      ],
      "metadata": {
        "colab": {
          "base_uri": "https://localhost:8080/"
        },
        "id": "aKciE9kdB0UY",
        "outputId": "7c9931ac-6b03-4834-b88f-c33b1f502d0d"
      },
      "execution_count": 26,
      "outputs": [
        {
          "output_type": "stream",
          "name": "stdout",
          "text": [
            "Epoch 1/10\n",
            "65/65 [==============================] - 37s 471ms/step - loss: 2.1564 - accuracy: 0.3238 - val_loss: 1.1988 - val_accuracy: 0.3146\n",
            "Epoch 2/10\n",
            "65/65 [==============================] - 28s 424ms/step - loss: 1.5428 - accuracy: 0.3277 - val_loss: 1.2299 - val_accuracy: 0.3146\n",
            "Epoch 3/10\n",
            "65/65 [==============================] - 28s 429ms/step - loss: 1.1941 - accuracy: 0.3682 - val_loss: 1.2112 - val_accuracy: 0.3146\n",
            "Epoch 4/10\n",
            "65/65 [==============================] - 28s 428ms/step - loss: 1.0161 - accuracy: 0.4344 - val_loss: 1.2030 - val_accuracy: 0.3146\n",
            "Epoch 5/10\n",
            "65/65 [==============================] - 28s 428ms/step - loss: 0.9093 - accuracy: 0.5468 - val_loss: 1.1443 - val_accuracy: 0.3109\n",
            "Epoch 6/10\n",
            "65/65 [==============================] - 28s 431ms/step - loss: 0.8313 - accuracy: 0.6482 - val_loss: 1.1659 - val_accuracy: 0.3146\n",
            "Epoch 7/10\n",
            "65/65 [==============================] - 28s 434ms/step - loss: 0.7835 - accuracy: 0.6868 - val_loss: 1.0404 - val_accuracy: 0.5431\n",
            "Epoch 8/10\n",
            "65/65 [==============================] - 28s 436ms/step - loss: 0.7542 - accuracy: 0.7153 - val_loss: 0.9840 - val_accuracy: 0.6067\n",
            "Epoch 9/10\n",
            "65/65 [==============================] - 29s 437ms/step - loss: 0.7205 - accuracy: 0.7225 - val_loss: 0.9612 - val_accuracy: 0.5693\n",
            "Epoch 10/10\n",
            "65/65 [==============================] - 29s 437ms/step - loss: 0.7130 - accuracy: 0.7230 - val_loss: 0.9216 - val_accuracy: 0.6067\n"
          ]
        }
      ]
    },
    {
      "cell_type": "code",
      "source": [
        "loss = history_fine.history['loss']\n",
        "val_loss = history_fine.history['val_loss']\n",
        "\n",
        "plt.plot(history_fine.history['loss'])\n",
        "plt.plot(history_fine.history['val_loss'])\n",
        "plt.title('model loss')\n",
        "plt.ylabel('loss')\n",
        "plt.xlabel('epoch')\n",
        "plt.legend(['training set','validation set'], loc='upper left')\n",
        "plt.show()"
      ],
      "metadata": {
        "colab": {
          "base_uri": "https://localhost:8080/",
          "height": 295
        },
        "id": "yNCTl8tYCSMo",
        "outputId": "e1604b30-e4cf-4f8d-9769-9afc9ad017ac"
      },
      "execution_count": 27,
      "outputs": [
        {
          "output_type": "display_data",
          "data": {
            "text/plain": [
              "<Figure size 432x288 with 1 Axes>"
            ],
            "image/png": "[encoded data removed]"
          },
          "metadata": {
            "needs_background": "light"
          }
        }
      ]
    },
    {
      "cell_type": "code",
      "source": [
        "y_prob = model_resnet_nt.predict(test_generator)\n",
        "y_pred = np.argmax(y_prob,axis=1)"
      ],
      "metadata": {
        "id": "S2EhnelsDhn4"
      },
      "execution_count": 28,
      "outputs": []
    },
    {
      "cell_type": "code",
      "source": [
        "print(classification_report(y_test,y_pred))"
      ],
      "metadata": {
        "colab": {
          "base_uri": "https://localhost:8080/"
        },
        "id": "_jM5CZHmDi0G",
        "outputId": "3215fe8a-4b44-4759-fec2-80dece724119"
      },
      "execution_count": 29,
      "outputs": [
        {
          "output_type": "stream",
          "name": "stdout",
          "text": [
            "              precision    recall  f1-score   support\n",
            "\n",
            "           0       0.39      0.12      0.18       221\n",
            "           1       0.33      0.25      0.28       188\n",
            "           2       0.35      0.69      0.47       213\n",
            "\n",
            "    accuracy                           0.35       622\n",
            "   macro avg       0.36      0.35      0.31       622\n",
            "weighted avg       0.36      0.35      0.31       622\n",
            "\n"
          ]
        }
      ]
    },
    {
      "cell_type": "markdown",
      "source": [
        "**Transfer Learning ResNet50**"
      ],
      "metadata": {
        "id": "5blC4u5c-wqy"
      }
    },
    {
      "cell_type": "code",
      "source": [
        "model_resnet_pt = Sequential()\n",
        "\n",
        "pre_trained_model = ResNet50(input_shape=(224,224,3),\n",
        "    include_top=False,\n",
        "    pooling ='avg',\n",
        "    weights='imagenet')\n",
        "\n",
        "for layer in pre_trained_model.layers:\n",
        "    layer.trainable = False\n",
        "\n",
        "model_resnet_pt.add(pre_trained_model)\n",
        "model_resnet_pt.add(Flatten())\n",
        "\n",
        "model_resnet_pt.add(Dense(num_classes, activation = 'softmax'))"
      ],
      "metadata": {
        "colab": {
          "base_uri": "https://localhost:8080/"
        },
        "id": "XrqIR2XODoj3",
        "outputId": "3f95b001-466f-41f3-876a-82a9f8d0532b"
      },
      "execution_count": 30,
      "outputs": [
        {
          "output_type": "stream",
          "name": "stdout",
          "text": [
            "Downloading data from https://storage.googleapis.com/tensorflow/keras-applications/resnet/resnet50_weights_tf_dim_ordering_tf_kernels_notop.h5\n",
            "94773248/94765736 [==============================] - 2s 0us/step\n",
            "94781440/94765736 [==============================] - 2s 0us/step\n"
          ]
        }
      ]
    },
    {
      "cell_type": "code",
      "source": [
        "model_resnet_pt.summary()"
      ],
      "metadata": {
        "colab": {
          "base_uri": "https://localhost:8080/"
        },
        "id": "18R3A8PcD3KX",
        "outputId": "8045a3a4-8357-4259-e225-fd686a7d9312"
      },
      "execution_count": 31,
      "outputs": [
        {
          "output_type": "stream",
          "name": "stdout",
          "text": [
            "Model: \"sequential_2\"\n",
            "_________________________________________________________________\n",
            " Layer (type)                Output Shape              Param #   \n",
            "=================================================================\n",
            " resnet50 (Functional)       (None, 2048)              23587712  \n",
            "                                                                 \n",
            " flatten_2 (Flatten)         (None, 2048)              0         \n",
            "                                                                 \n",
            " dense_4 (Dense)             (None, 3)                 6147      \n",
            "                                                                 \n",
            "=================================================================\n",
            "Total params: 23,593,859\n",
            "Trainable params: 6,147\n",
            "Non-trainable params: 23,587,712\n",
            "_________________________________________________________________\n"
          ]
        }
      ]
    },
    {
      "cell_type": "code",
      "source": [
        "sgd = SGD(learning_rate=0.00002)\n",
        "\n",
        "model_resnet_pt.compile(optimizer=sgd,loss=\"categorical_crossentropy\",metrics=['accuracy'])\n",
        "\n",
        "history_fine =model_resnet_pt.fit(train_generator,\n",
        "                        epochs=10,\n",
        "                        batch_size=32,\n",
        "                        validation_data=valid_generator)"
      ],
      "metadata": {
        "colab": {
          "base_uri": "https://localhost:8080/"
        },
        "id": "EIAEZdnBD56J",
        "outputId": "fc5917c1-2d5c-4b35-d7cc-18519d777584"
      },
      "execution_count": 32,
      "outputs": [
        {
          "output_type": "stream",
          "name": "stdout",
          "text": [
            "Epoch 1/10\n",
            "65/65 [==============================] - 16s 202ms/step - loss: 1.0742 - accuracy: 0.3596 - val_loss: 1.0501 - val_accuracy: 0.3670\n",
            "Epoch 2/10\n",
            "65/65 [==============================] - 12s 178ms/step - loss: 1.0335 - accuracy: 0.3938 - val_loss: 1.0228 - val_accuracy: 0.4007\n",
            "Epoch 3/10\n",
            "65/65 [==============================] - 13s 196ms/step - loss: 1.0157 - accuracy: 0.4440 - val_loss: 1.0095 - val_accuracy: 0.5768\n",
            "Epoch 4/10\n",
            "65/65 [==============================] - 12s 177ms/step - loss: 1.0068 - accuracy: 0.6173 - val_loss: 1.0019 - val_accuracy: 0.6854\n",
            "Epoch 5/10\n",
            "65/65 [==============================] - 12s 176ms/step - loss: 1.0013 - accuracy: 0.6704 - val_loss: 0.9968 - val_accuracy: 0.7116\n",
            "Epoch 6/10\n",
            "65/65 [==============================] - 12s 188ms/step - loss: 0.9972 - accuracy: 0.6815 - val_loss: 0.9926 - val_accuracy: 0.7116\n",
            "Epoch 7/10\n",
            "65/65 [==============================] - 12s 176ms/step - loss: 0.9936 - accuracy: 0.6882 - val_loss: 0.9888 - val_accuracy: 0.7079\n",
            "Epoch 8/10\n",
            "65/65 [==============================] - 12s 177ms/step - loss: 0.9901 - accuracy: 0.6902 - val_loss: 0.9852 - val_accuracy: 0.7079\n",
            "Epoch 9/10\n",
            "65/65 [==============================] - 12s 178ms/step - loss: 0.9868 - accuracy: 0.6926 - val_loss: 0.9818 - val_accuracy: 0.7004\n",
            "Epoch 10/10\n",
            "65/65 [==============================] - 12s 177ms/step - loss: 0.9837 - accuracy: 0.6902 - val_loss: 0.9785 - val_accuracy: 0.7004\n"
          ]
        }
      ]
    },
    {
      "cell_type": "code",
      "source": [
        "loss = history_fine.history['loss']\n",
        "val_loss = history_fine.history['val_loss']\n",
        "\n",
        "plt.plot(history_fine.history['loss'])\n",
        "plt.plot(history_fine.history['val_loss'])\n",
        "plt.title('model loss')\n",
        "plt.ylabel('loss')\n",
        "plt.xlabel('epoch')\n",
        "plt.legend(['training set','validation set'], loc='upper left')\n",
        "plt.show()"
      ],
      "metadata": {
        "colab": {
          "base_uri": "https://localhost:8080/",
          "height": 295
        },
        "id": "qxf2GUw5EKK2",
        "outputId": "a468c67b-93c1-464c-b486-e658e48fbfb4"
      },
      "execution_count": 33,
      "outputs": [
        {
          "output_type": "display_data",
          "data": {
            "text/plain": [
              "<Figure size 432x288 with 1 Axes>"
            ],
            "image/png": "[encoded data removed]"
          },
          "metadata": {
            "needs_background": "light"
          }
        }
      ]
    },
    {
      "cell_type": "code",
      "source": [
        "y_prob = model_resnet_pt.predict(test_generator)\n",
        "y_pred = np.argmax(y_prob,axis=1)"
      ],
      "metadata": {
        "id": "RBuvK-rZEMMh"
      },
      "execution_count": 34,
      "outputs": []
    },
    {
      "cell_type": "code",
      "source": [
        "print(classification_report(y_test,y_pred))"
      ],
      "metadata": {
        "colab": {
          "base_uri": "https://localhost:8080/"
        },
        "id": "UCznbVX3EPxq",
        "outputId": "0397faad-149c-46ec-f769-07b8846b373a"
      },
      "execution_count": 35,
      "outputs": [
        {
          "output_type": "stream",
          "name": "stdout",
          "text": [
            "              precision    recall  f1-score   support\n",
            "\n",
            "           0       0.40      0.34      0.37       221\n",
            "           1       0.30      0.38      0.34       188\n",
            "           2       0.35      0.32      0.34       213\n",
            "\n",
            "    accuracy                           0.35       622\n",
            "   macro avg       0.35      0.35      0.35       622\n",
            "weighted avg       0.35      0.35      0.35       622\n",
            "\n"
          ]
        }
      ]
    },
    {
      "cell_type": "markdown",
      "source": [
        "Teste de ocr com tesseract"
      ],
      "metadata": {
        "id": "Sgj_ksVz2_ab"
      }
    },
    {
      "cell_type": "code",
      "source": [
        "dataset_dict['text'] = []\n",
        "\n",
        "for folder in lista_subfolders:\n",
        "  lista_imagens = os.listdir(path_documents+'/'+folder)\n",
        "  for img_file in lista_imagens:\n",
        "    dataset_dict['text'].append(pytesseract.image_to_string(Image.open(path_documents+'/'+folder+'/'+img_file)))"
      ],
      "metadata": {
        "id": "NDFfzley3Dbu"
      },
      "execution_count": null,
      "outputs": []
    }
  ]
}